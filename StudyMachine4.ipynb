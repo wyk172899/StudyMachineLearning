{
  "nbformat": 4,
  "nbformat_minor": 0,
  "metadata": {
    "colab": {
      "provenance": [],
      "authorship_tag": "ABX9TyM/4Lyu++bhW4rxCFfBEGAQ",
      "include_colab_link": true
    },
    "kernelspec": {
      "name": "python3",
      "display_name": "Python 3"
    },
    "language_info": {
      "name": "python"
    }
  },
  "cells": [
    {
      "cell_type": "markdown",
      "metadata": {
        "id": "view-in-github",
        "colab_type": "text"
      },
      "source": [
        "<a href=\"https://colab.research.google.com/github/wyk172899/StudyMachine/blob/main/StudyMachine4.ipynb\" target=\"_parent\"><img src=\"https://colab.research.google.com/assets/colab-badge.svg\" alt=\"Open In Colab\"/></a>"
      ]
    },
    {
      "cell_type": "code",
      "execution_count": 391,
      "metadata": {
        "id": "oLFZiKt3nvrb"
      },
      "outputs": [],
      "source": [
        "import gdown\n",
        "import pandas as pd\n",
        "import requests\n",
        "from bs4 import BeautifulSoup"
      ]
    },
    {
      "cell_type": "code",
      "source": [
        "gdown.download('https://bit.ly/3q9SZix','20s_best_book.json',quiet=False)"
      ],
      "metadata": {
        "colab": {
          "base_uri": "https://localhost:8080/",
          "height": 107
        },
        "id": "gAZdo1YXpR9z",
        "outputId": "a29cd741-1eac-4651-e1fe-d92007541e1f"
      },
      "execution_count": 392,
      "outputs": [
        {
          "output_type": "stream",
          "name": "stderr",
          "text": [
            "Downloading...\n",
            "From: https://bit.ly/3q9SZix\n",
            "To: /content/20s_best_book.json\n",
            "100%|██████████| 92.9k/92.9k [00:00<00:00, 66.6MB/s]\n"
          ]
        },
        {
          "output_type": "execute_result",
          "data": {
            "text/plain": [
              "'20s_best_book.json'"
            ],
            "application/vnd.google.colaboratory.intrinsic+json": {
              "type": "string"
            }
          },
          "metadata": {},
          "execution_count": 392
        }
      ]
    },
    {
      "cell_type": "code",
      "source": [
        "books_df = pd.read_json('20s_best_book.json')"
      ],
      "metadata": {
        "id": "WKW4QwfwpscD"
      },
      "execution_count": 393,
      "outputs": []
    },
    {
      "cell_type": "code",
      "source": [
        "gdown.download('https://drive.google.com/u/0/uc?id=1rgAbVqnzufDu4cgdMh7y8d0MKcu0yTH4&export=download','20s_best_book_2.json',quiet=False)"
      ],
      "metadata": {
        "colab": {
          "base_uri": "https://localhost:8080/",
          "height": 107
        },
        "id": "u1TPrKvgqh1H",
        "outputId": "6beb1514-082c-48b9-a175-00e948952432"
      },
      "execution_count": 394,
      "outputs": [
        {
          "output_type": "stream",
          "name": "stderr",
          "text": [
            "Downloading...\n",
            "From: https://drive.google.com/u/0/uc?id=1rgAbVqnzufDu4cgdMh7y8d0MKcu0yTH4&export=download\n",
            "To: /content/20s_best_book_2.json\n",
            "100%|██████████| 103k/103k [00:00<00:00, 43.4MB/s]\n"
          ]
        },
        {
          "output_type": "execute_result",
          "data": {
            "text/plain": [
              "'20s_best_book_2.json'"
            ],
            "application/vnd.google.colaboratory.intrinsic+json": {
              "type": "string"
            }
          },
          "metadata": {},
          "execution_count": 394
        }
      ]
    },
    {
      "cell_type": "code",
      "source": [
        "books_df2 = pd.read_json('20s_best_book_2.json')"
      ],
      "metadata": {
        "id": "KjpK5IXYsUQj"
      },
      "execution_count": 395,
      "outputs": []
    },
    {
      "cell_type": "code",
      "source": [
        "books = books_df[['no','ranking','bookname','authors','publisher','publication_year','isbn13']]"
      ],
      "metadata": {
        "id": "NbZotr33ulW4"
      },
      "execution_count": 396,
      "outputs": []
    },
    {
      "cell_type": "code",
      "source": [
        "books = books_df.loc[:,'no':'isbn13']"
      ],
      "metadata": {
        "id": "x5cEReA0vtiy"
      },
      "execution_count": 397,
      "outputs": []
    },
    {
      "cell_type": "code",
      "source": [
        "books = books_df.loc[::2,'no':'isbn13']"
      ],
      "metadata": {
        "id": "twHlR84wxuMA"
      },
      "execution_count": 398,
      "outputs": []
    },
    {
      "cell_type": "code",
      "source": [
        "isbn = 9791190090018\n",
        "url = 'http://www.yes24.com/Product/Search?domain=ALL&query={}'"
      ],
      "metadata": {
        "id": "uHnw3hNtyRaS"
      },
      "execution_count": 399,
      "outputs": []
    },
    {
      "cell_type": "code",
      "source": [
        "r = requests.get(url.format(isbn))"
      ],
      "metadata": {
        "id": "vqLwYxLo2X9L"
      },
      "execution_count": 400,
      "outputs": []
    },
    {
      "cell_type": "code",
      "source": [
        "soup = BeautifulSoup(r.text,'html.parser')"
      ],
      "metadata": {
        "id": "LjiPVsvV42mE"
      },
      "execution_count": 401,
      "outputs": []
    },
    {
      "cell_type": "code",
      "source": [
        "prd_link = soup.find('a',attrs={'class':'gd_name'})"
      ],
      "metadata": {
        "id": "y2a0JYap5Huq"
      },
      "execution_count": 402,
      "outputs": []
    },
    {
      "cell_type": "code",
      "source": [
        "prd_link['href']"
      ],
      "metadata": {
        "colab": {
          "base_uri": "https://localhost:8080/",
          "height": 36
        },
        "id": "s_82Qazq5Syz",
        "outputId": "cde0f7cf-9e32-44f5-d66a-5447c6bd75f9"
      },
      "execution_count": 403,
      "outputs": [
        {
          "output_type": "execute_result",
          "data": {
            "text/plain": [
              "'/Product/Goods/74261416'"
            ],
            "application/vnd.google.colaboratory.intrinsic+json": {
              "type": "string"
            }
          },
          "metadata": {},
          "execution_count": 403
        }
      ]
    },
    {
      "cell_type": "code",
      "source": [
        "url = 'http://www.yes24.com'+prd_link['href']"
      ],
      "metadata": {
        "id": "XCMxuHw06Msb"
      },
      "execution_count": 404,
      "outputs": []
    },
    {
      "cell_type": "code",
      "source": [
        "r = requests.get(url)"
      ],
      "metadata": {
        "id": "a3Y8-Aa56Wy0"
      },
      "execution_count": 405,
      "outputs": []
    },
    {
      "cell_type": "code",
      "source": [
        "soup = BeautifulSoup(r.text,'html.parser')"
      ],
      "metadata": {
        "id": "QaN5oK-J7QEM"
      },
      "execution_count": 406,
      "outputs": []
    },
    {
      "cell_type": "code",
      "source": [
        "prd_detail = soup.find('div', attrs={'id':'infoset_specific'})"
      ],
      "metadata": {
        "id": "dEZ_CL5L8DF4"
      },
      "execution_count": 407,
      "outputs": []
    },
    {
      "cell_type": "code",
      "source": [
        "prd_tr_list = prd_detail.find_all('tr')"
      ],
      "metadata": {
        "id": "cq9MXLwH8aB-"
      },
      "execution_count": 408,
      "outputs": []
    },
    {
      "cell_type": "code",
      "source": [
        "for tr in prd_tr_list:\n",
        "  if tr.find('th').get_text() == '쪽수, 무게, 크기':\n",
        "    page_td = tr.find('td').get_text()\n",
        "    break\n",
        "page_td"
      ],
      "metadata": {
        "colab": {
          "base_uri": "https://localhost:8080/",
          "height": 36
        },
        "id": "c6V20WQv89jG",
        "outputId": "94fbabb0-69f5-4643-aee3-060d51cbca11"
      },
      "execution_count": 409,
      "outputs": [
        {
          "output_type": "execute_result",
          "data": {
            "text/plain": [
              "'330쪽 | 496g | 130*198*30mm'"
            ],
            "application/vnd.google.colaboratory.intrinsic+json": {
              "type": "string"
            }
          },
          "metadata": {},
          "execution_count": 409
        }
      ]
    },
    {
      "cell_type": "code",
      "source": [
        "page_td.split()[0]"
      ],
      "metadata": {
        "colab": {
          "base_uri": "https://localhost:8080/",
          "height": 36
        },
        "id": "-s9ybKA--trd",
        "outputId": "3a2b322c-1c65-4fe6-cc01-e5e55ca63b1c"
      },
      "execution_count": 410,
      "outputs": [
        {
          "output_type": "execute_result",
          "data": {
            "text/plain": [
              "'330쪽'"
            ],
            "application/vnd.google.colaboratory.intrinsic+json": {
              "type": "string"
            }
          },
          "metadata": {},
          "execution_count": 410
        }
      ]
    },
    {
      "cell_type": "code",
      "source": [
        "isbn1 = 9791165341909\n",
        "url1 = 'http://www.yes24.com/Product/Search?domain=ALL&query={}'"
      ],
      "metadata": {
        "id": "QExDwssD_V9T"
      },
      "execution_count": 411,
      "outputs": []
    },
    {
      "cell_type": "code",
      "source": [
        "r1 = requests.get(url1.format(isbn1))"
      ],
      "metadata": {
        "id": "941GB5QRB0U8"
      },
      "execution_count": 412,
      "outputs": []
    },
    {
      "cell_type": "code",
      "source": [
        "soup1 = BeautifulSoup(r1.text,'html.parser')"
      ],
      "metadata": {
        "id": "DT3q1Hz__xAV"
      },
      "execution_count": 413,
      "outputs": []
    },
    {
      "cell_type": "code",
      "source": [
        "prd_link1 = soup1.find('a',attrs={'class':'gd_name'})"
      ],
      "metadata": {
        "id": "Ejq0o1z_Dr7S"
      },
      "execution_count": 414,
      "outputs": []
    },
    {
      "cell_type": "code",
      "source": [
        "prd_link1['href']"
      ],
      "metadata": {
        "colab": {
          "base_uri": "https://localhost:8080/",
          "height": 36
        },
        "id": "H8ZOyk31Dkxu",
        "outputId": "52f3d313-7535-4b82-c304-440aece6dfa2"
      },
      "execution_count": 415,
      "outputs": [
        {
          "output_type": "execute_result",
          "data": {
            "text/plain": [
              "'/Product/Goods/91065309'"
            ],
            "application/vnd.google.colaboratory.intrinsic+json": {
              "type": "string"
            }
          },
          "metadata": {},
          "execution_count": 415
        }
      ]
    },
    {
      "cell_type": "code",
      "source": [
        "r1 = requests.get(url)"
      ],
      "metadata": {
        "id": "6NJVliSkANc9"
      },
      "execution_count": 416,
      "outputs": []
    },
    {
      "cell_type": "code",
      "source": [
        "prd_detail1 = soup1.find('div', attrs={'id':'infoset_specific'})"
      ],
      "metadata": {
        "id": "pW4AEiMUAR8u"
      },
      "execution_count": 417,
      "outputs": []
    },
    {
      "cell_type": "code",
      "source": [
        "prd_tr_list1 = prd_detail1.find_all('tr')"
      ],
      "metadata": {
        "colab": {
          "base_uri": "https://localhost:8080/",
          "height": 170
        },
        "id": "VNApW1TFAT5w",
        "outputId": "90da97ce-df84-4832-fca1-3bbc7b671ab3"
      },
      "execution_count": 418,
      "outputs": [
        {
          "output_type": "error",
          "ename": "AttributeError",
          "evalue": "ignored",
          "traceback": [
            "\u001b[0;31m---------------------------------------------------------------------------\u001b[0m",
            "\u001b[0;31mAttributeError\u001b[0m                            Traceback (most recent call last)",
            "\u001b[0;32m<ipython-input-418-67a7e3d3b261>\u001b[0m in \u001b[0;36m<module>\u001b[0;34m\u001b[0m\n\u001b[0;32m----> 1\u001b[0;31m \u001b[0mprd_tr_list1\u001b[0m \u001b[0;34m=\u001b[0m \u001b[0mprd_detail1\u001b[0m\u001b[0;34m.\u001b[0m\u001b[0mfind_all\u001b[0m\u001b[0;34m(\u001b[0m\u001b[0;34m'tr'\u001b[0m\u001b[0;34m)\u001b[0m\u001b[0;34m\u001b[0m\u001b[0;34m\u001b[0m\u001b[0m\n\u001b[0m",
            "\u001b[0;31mAttributeError\u001b[0m: 'NoneType' object has no attribute 'find_all'"
          ]
        }
      ]
    },
    {
      "cell_type": "code",
      "source": [
        "for tr in prd_tr_list:\n",
        "  if tr.find('th').get_text() == '쪽수, 무게, 크기':\n",
        "    page_td = tr.find('td').get_text()\n",
        "    break\n",
        "page_td"
      ],
      "metadata": {
        "id": "hAcDQireAWAh"
      },
      "execution_count": null,
      "outputs": []
    },
    {
      "cell_type": "code",
      "source": [
        "page_td.split()[0]"
      ],
      "metadata": {
        "id": "cMYwjxDvAXHL"
      },
      "execution_count": null,
      "outputs": []
    }
  ]
}