{
  "nbformat": 4,
  "nbformat_minor": 0,
  "metadata": {
    "colab": {
      "provenance": [],
      "authorship_tag": "ABX9TyNTs8HoSnmSp4a2kLeb4jmx",
      "include_colab_link": true
    },
    "kernelspec": {
      "name": "python3",
      "display_name": "Python 3"
    },
    "language_info": {
      "name": "python"
    }
  },
  "cells": [
    {
      "cell_type": "markdown",
      "metadata": {
        "id": "view-in-github",
        "colab_type": "text"
      },
      "source": [
        "<a href=\"https://colab.research.google.com/github/wyk172899/StudyMachine/blob/main/studymachine2.ipynb\" target=\"_parent\"><img src=\"https://colab.research.google.com/assets/colab-badge.svg\" alt=\"Open In Colab\"/></a>"
      ]
    },
    {
      "cell_type": "code",
      "execution_count": 6,
      "metadata": {
        "colab": {
          "base_uri": "https://localhost:8080/"
        },
        "id": "QUTt-oN4ATzE",
        "outputId": "9ad7b1be-5d57-4b84-a2b6-b0c353b7b6fd"
      },
      "outputs": [
        {
          "output_type": "stream",
          "name": "stdout",
          "text": [
            "으야\n"
          ]
        }
      ],
      "source": [
        "d = {\"name\":\"으야\",\"str\":\"ㅁㄴㅇㄹ\"}\n",
        "print(d[\"name\"])"
      ]
    },
    {
      "cell_type": "code",
      "source": [
        "import json\n",
        "import pandas as pd"
      ],
      "metadata": {
        "id": "ciS11g-oBBQq"
      },
      "execution_count": 19,
      "outputs": []
    },
    {
      "cell_type": "code",
      "source": [
        "d_str = json.dumps(d,ensure_ascii=False)\n",
        "print(d_str)"
      ],
      "metadata": {
        "colab": {
          "base_uri": "https://localhost:8080/"
        },
        "id": "jfHEF-M6BD4o",
        "outputId": "b1f4ef1b-7074-455e-92e3-6080fda0d338"
      },
      "execution_count": 8,
      "outputs": [
        {
          "output_type": "stream",
          "name": "stdout",
          "text": [
            "{\"name\": \"으야\", \"str\": \"ㅁㄴㅇㄹ\"}\n"
          ]
        }
      ]
    },
    {
      "cell_type": "code",
      "source": [
        "d2 = json.loads(d_str)\n",
        "print(d2)"
      ],
      "metadata": {
        "colab": {
          "base_uri": "https://localhost:8080/"
        },
        "id": "YSbj60j8Cez5",
        "outputId": "ba700bf0-2daa-47b4-a911-5877f0eec733"
      },
      "execution_count": 10,
      "outputs": [
        {
          "output_type": "stream",
          "name": "stdout",
          "text": [
            "{'name': '으야', 'str': 'ㅁㄴㅇㄹ'}\n"
          ]
        }
      ]
    },
    {
      "cell_type": "code",
      "source": [
        "d3_str = \"\"\"\n",
        "[\n",
        "  {\"name\":\"혼자 공부하는 데이터 분석\",\"author\":[\"박해선\",\"홍길동\"],\"year\":2022},\n",
        "  {\"name\":\"혼자 공부하는 머신러닝+딥러닝\",\"author\":[\"박해선\",\"홍길동\"],\"year\":2020}\n",
        "]\n",
        "\"\"\"\n",
        "d3 = json.loads(d3_str)\n",
        "print(d3[0]['name'])\n",
        "print(d3[0]['author'][0])\n",
        "print(d3[1]['year'])"
      ],
      "metadata": {
        "colab": {
          "base_uri": "https://localhost:8080/"
        },
        "id": "IwVxgDzgD2HQ",
        "outputId": "2682a2d9-b63f-455d-b051-4b45cfb91d39"
      },
      "execution_count": 21,
      "outputs": [
        {
          "output_type": "stream",
          "name": "stdout",
          "text": [
            "혼자 공부하는 데이터 분석\n",
            "박해선\n",
            "2020\n"
          ]
        }
      ]
    }
  ]
}